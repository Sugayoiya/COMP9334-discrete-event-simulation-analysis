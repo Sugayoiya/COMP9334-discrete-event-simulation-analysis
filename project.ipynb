{
 "cells": [
  {
   "cell_type": "code",
   "execution_count": 324,
   "metadata": {},
   "outputs": [],
   "source": [
    "import random,math\n",
    "from collections import defaultdict\n",
    "from collections import Counter\n",
    "\n",
    "class job():\n",
    "    def __init__(self,t,num,m):\n",
    "        self.state = str(m)\n",
    "        self.num = str(num)\n",
    "        self.time = t\n",
    "\n",
    "# --- support functions starts ---\n",
    "        \n",
    "## read file method\n",
    "def read_para_trace(para_file,arrival_file,service_file):  \n",
    "    with open(para_file,'r') as para:\n",
    "        para_list = []\n",
    "        for i in para:\n",
    "            para_list.append(i.strip())\n",
    "        servers,setup,delayoff = para_list[:] \n",
    "#         print('servers,setup,delayoff:',servers,setup,delayoff)\n",
    "    para.close()\n",
    "    \n",
    "    with open(arrival_file,'r') as arr:\n",
    "        arr_list =[]\n",
    "        for i in arr:\n",
    "            arr_list.append(int(i.strip()))\n",
    "#         print('arrival:',arr_list)\n",
    "    arr.close()\n",
    "    \n",
    "    with open(service_file,'r') as service:\n",
    "        ser_list = []\n",
    "        for i in service:\n",
    "            ser_list.append(int(i.strip()))\n",
    "#         print('service:',ser_list)\n",
    "    service.close()\n",
    "    return servers,setup,delayoff,arr_list,ser_list\n",
    "\n",
    "def read_para_random(para_file,arrival_file,service_file):  \n",
    "    with open(para_file,'r') as para:\n",
    "        para_list = []\n",
    "        for i in para:\n",
    "            para_list.append(i.strip())\n",
    "        servers,setup,delayoff,time_end = para_list[:] \n",
    "#         print('servers,setup,delayoff,time_end:',servers,setup,delayoff,time_end)\n",
    "    para.close()\n",
    "    \n",
    "    with open(arrival_file,'r') as arr:\n",
    "        for i in arr:\n",
    "            arr_list = (float(i.strip()))\n",
    "#         print('arrival:',arr_list)\n",
    "    arr.close()\n",
    "    \n",
    "    with open(service_file,'r') as service:\n",
    "        for i in service:\n",
    "            ser_list = (float(i.strip()))\n",
    "#         print('service:',ser_list)\n",
    "    service.close()\n",
    "    return servers,setup,delayoff,time_end,arr_list,ser_list\n",
    "\n",
    "## read file method ends\n",
    "\n",
    "def nextTime(rateParameter):\n",
    "    return -math.log(1.0 - random.random()) / rateParameter\n",
    "\n",
    "def generate_exp(T_end, arrival, service, fix = 0, seed = 0):\n",
    "    arrival_list = []\n",
    "    service_list = []\n",
    "    arr , ser = 0.0, 0.0 \n",
    "    fix = int(fix)\n",
    "    seed = int(seed)\n",
    "    if fix == 1:\n",
    "        random.seed(seed)\n",
    "    arr += nextTime(arrival)\n",
    "    while arr<= T_end:\n",
    "        arrival_list.append(arr)\n",
    "        ser = nextTime(service)+nextTime(service)+nextTime(service)\n",
    "        service_list.append(ser)\n",
    "        arr += nextTime(arrival)\n",
    "    return arrival_list,service_list\n",
    "    print(len(arrival_list) == len(service_list))\n",
    "\n",
    "def check_server(server_state): # check number of each state of servers\n",
    "        count = []\n",
    "        for  i in server_state:\n",
    "            count.append(server_state[i][0])\n",
    "        return Counter(count)\n",
    "        \n",
    "def check_job(depatcher_queue): # check jobs two states\n",
    "    count = []\n",
    "    for i in depatcher_queue:\n",
    "        count.append(i.state)\n",
    "    return Counter(count)\n",
    "\n",
    "def find_server_num(server_state,time): \n",
    "    for i in server_state:\n",
    "        if server_state[i][1] == time:\n",
    "            return i\n",
    "        \n",
    "def find_longest_setup(server_state):\n",
    "    time = 0\n",
    "    num = 0\n",
    "    for i in server_state:\n",
    "        if server_state[i][0] == '1':\n",
    "            if server_state[i][1] > time:\n",
    "                time = server_state[i][1]\n",
    "                num = i\n",
    "    return num\n",
    "\n",
    "def find_longest_delayedoff(server_state,master_clock):\n",
    "    num = 0\n",
    "    time = 0\n",
    "    real_time = 0\n",
    "    for i in server_state:\n",
    "        if server_state[i][0] == '3':\n",
    "#             print(i,server_state[i][1],master_clock)\n",
    "            if server_state[i][1] - master_clock > time:\n",
    "                time = server_state[i][1] - master_clock\n",
    "                num = i\n",
    "                real_time = server_state[i][1]\n",
    "#     print(num,real_time)\n",
    "    return num,real_time\n",
    "\n",
    "def find_delayedoff_server(server_state,time):\n",
    "    for i in server_state:\n",
    "        if server_state[i][1] == time:\n",
    "            return i\n",
    "        \n",
    "def combine_list(a,c,mode,T_end = 0.0):\n",
    "    arrival_complete = []\n",
    "#     print(len(a) == len(c))\n",
    "    for i in range(len(a)):\n",
    "        if mode == 'random':\n",
    "            if c[i]<T_end:\n",
    "                arrival_complete.append((a[i],c[i]))\n",
    "        else:\n",
    "            arrival_complete.append((a[i],c[i]))\n",
    "    arrival_complete.sort(key = lambda x: x[1],reverse = False)\n",
    "    return arrival_complete\n",
    "    \n",
    "\n",
    "# === support functions ends ===\n",
    "        \n",
    "# --- simulation main function ---\n",
    "\n",
    "def simulate(mode,arr_list,ser_list,servers,setup_time,delayoff_time,time_end = 0.0):\n",
    "    server_state = defaultdict(list)  # { server num:['state',time] } \n",
    "    event = [] # sorted by time -includes setup, arrival and complete\n",
    "    master_clock = 0.0\n",
    "    # arrival = [1.0, 2.0, 3.2, 3.3] \n",
    "    # service = [.1, .2, .3, .4]\n",
    "    time_end = float(time_end)\n",
    "    if mode =='trace':\n",
    "        arrival,service = arr_list,ser_list\n",
    "    elif mode == 'random_fix':\n",
    "        arrival,service = generate_exp(time_end,arr_list,ser_list,1)\n",
    "    else:\n",
    "        arrival,service = generate_exp(time_end,arr_list,ser_list)\n",
    "    respose_time = 0 # response time\n",
    "    delayedoff  = float(delayoff_time)  # delayedoff time to off state (Tc)\n",
    "    depatcher_queue = []  # jobs in the queue\n",
    "    check_state = 0  \n",
    "    job_num = 1\n",
    "    setup_time = float(setup_time) # the time needed setting up an off server to process a job\n",
    "    complete_time = [0.0]*len(arrival) # ordered by arrival time\n",
    "    mrt = 0.0\n",
    "    arrival_complete = [] # final list\n",
    "    \n",
    "    m = int(servers) # num of servers\n",
    "    for i in range(1, m+1): # initialize servers\n",
    "        server_state[i].append('0')\n",
    "        server_state[i].append(0)\n",
    "\n",
    "    # arrival = [11, 11.2, 11.3, 13] \n",
    "    # service = [1, 1.4, 5, 1]\n",
    "    # # initialize\n",
    "    # server_state[1].append('3')\n",
    "    # server_state[1].append(20) \n",
    "    # server_state[2].append('3')\n",
    "    # server_state[2].append(17) \n",
    "    # server_state[3].append('0')\n",
    "    # server_state[3].append(0) \n",
    "        \n",
    "    # ll=server_state # test\n",
    "    server_state # server num:[ state, time(default = 0)]\n",
    "    for x in arrival:\n",
    "        event.append((x,'arrival'))\n",
    "                     \n",
    "    # print('event:',event,'\\n')\n",
    "\n",
    "    while len(event)!=0:\n",
    "        event.sort(key = lambda x: x[0],reverse = False) # sorted event list by time\n",
    "        event_now = event.pop(0)\n",
    "        time_passed = event_now[0] - master_clock\n",
    "        master_clock = event_now[0]\n",
    "    #     print('-----------------------  -----------------------')\n",
    "    #     print('event:',event,'\\n')\n",
    "\n",
    "        if event_now[1] =='arrival':\n",
    "        #     print('arrival')\n",
    "\n",
    "            check_server_state = check_server(server_state)\n",
    "    #         print(check_server_state)\n",
    "        #     print(set(check_state)) \n",
    "            check_job_state = check_job(depatcher_queue)\n",
    "    #         print(check_job_state)\n",
    "            \n",
    "            if '3' in set(check_server_state): # at least one delayedoff server\n",
    "                depatcher_queue.append(job(event_now[0],job_num,'Delayed'))\n",
    "                delayedoff_to_busy,time = find_longest_delayedoff(server_state,master_clock)\n",
    "                server_state[delayedoff_to_busy][0] = '4'\n",
    "                temp = master_clock + service[job_num-1]\n",
    "                \n",
    "    #             print(len(event))\n",
    "                for i in range(len(event)):\n",
    "    #                 print(i)\n",
    "                    if event[i] == (time,'delayedoff'):\n",
    "                        event.pop(i)\n",
    "                        break\n",
    "                complete_time[int(depatcher_queue.pop().num)-1] = temp\n",
    "                server_state[delayedoff_to_busy][1] = temp\n",
    "                event.append((temp,'completed'))\n",
    "                \n",
    "    #             print('server_state:\\n',server_state,'\\n\\ndepatcher_queue:\\n',\n",
    "    #                   [(i.num,i.state) for i in depatcher_queue],'\\n\\nmaster_clock:',master_clock,'\\n')\n",
    "    #             print('event:',event,'\\n')\n",
    "                job_num += 1\n",
    "                continue\n",
    "            \n",
    "            elif '0' in set(check_server_state): # random choose one off server to setup\n",
    "                depatcher_queue.append(job(event_now[0],job_num,'MARKED'))\n",
    "                job_num += 1\n",
    "    #             print(server_state)\n",
    "                off_servers = [] # off state\n",
    "                for i in server_state:\n",
    "                    if server_state[i][0] =='0':\n",
    "                        off_servers.append(i)\n",
    "                temp = off_servers[random.randint(0,len(off_servers)-1)]\n",
    "                server_state[temp][0]= '1'\n",
    "                server_state[temp][1] = master_clock+setup_time\n",
    "                event.append((master_clock+setup_time,'setup')) # what time setup finished\n",
    "                \n",
    "    #             print('server_state:\\n',server_state,'\\n\\ndepatcher_queue:\\n',\n",
    "                      \n",
    "    #                   [(i.num,i.state) for i in depatcher_queue],'\\n\\nmaster_clock:',master_clock,'\\n')\n",
    "    #             print('event:',event,'\\n')\n",
    "\n",
    "                continue\n",
    "                \n",
    "            else: # all busy (need to be inplemented)\n",
    "                depatcher_queue.append(job(event_now[0],job_num,'UNMARKED'))\n",
    "    #             print('server_state:\\n',server_state,'\\n\\ndepatcher_queue:\\n',\n",
    "    #                   [(i.num,i.state) for i in depatcher_queue],'\\n\\nmaster_clock:',master_clock,'\\n')\n",
    "    #             print('event:',event,'\\n')\n",
    "                job_num += 1\n",
    "                continue\n",
    "\n",
    "        \n",
    "        if event_now[1] =='setup': # time for this server to do job\n",
    "    #         print('setup server is :',find_server_num(server_state, master_clock))\n",
    "            temp = find_server_num(server_state, master_clock)\n",
    "            server_state[temp][0]= '2'\n",
    "            num = int(depatcher_queue.pop(0).num)-1\n",
    "            busy_time = master_clock+service[num]\n",
    "            complete_time[num] = busy_time\n",
    "            server_state[temp][1] = busy_time\n",
    "            \n",
    "            event.append((busy_time,'completed')) # what time job completed\n",
    "    #         print('event(setup):',event,'\\n','\\n\\ndepatcher_queue:\\n',\n",
    "    #               [(i.num,i.state) for i in depatcher_queue],\n",
    "    #               'server_state:\\n',server_state,'\\n\\nmaster_clock:',master_clock,'\\n')\n",
    "            continue\n",
    "        \n",
    "        if event_now[1] =='completed':\n",
    "            temp = find_server_num(server_state, master_clock) # num of server which completed job\n",
    "            \n",
    "            check_job_state = check_job(depatcher_queue)\n",
    "    #         print('completed a job,',check_job_state,'\\n')\n",
    "            if 'MARKED' in check_job_state:\n",
    "    #             print('\\nthere are still marked jobs in queue\\n')\n",
    "                server_state[temp][0]= '2'\n",
    "                num = int(depatcher_queue.pop(0).num)-1\n",
    "                busy_time = master_clock+service[num] # job in the front \n",
    "                complete_time[num] = busy_time\n",
    "                server_state[temp][1] = busy_time           \n",
    "                \n",
    "                event.append((busy_time,'completed')) # what time job completed\n",
    "                \n",
    "                if 'UNMARKED' in check_job_state:\n",
    "                    # still some unmarked remain --> unmarked changed to marked\n",
    "                    for i in depatcher_queue:\n",
    "                        if i.state =='UNMARKED':\n",
    "                            i.state = 'MARKED'\n",
    "                            break\n",
    "                else:\n",
    "                    # no unmarked remain --> marked -1 setup -1\n",
    "                    server_to_off = int(find_longest_setup(server_state))\n",
    "    #                 print('server_to_off:',server_to_off,'\\n',server_state)\n",
    "                    for i in range(len(event)):\n",
    "    #                     print(event[i],server_state[server_to_off])\n",
    "                        if event[i] == (server_state[server_to_off][1],'setup'):\n",
    "        #                     event.pop((server_state[server_to_off][1],'setup'))\n",
    "                            event.pop(i)\n",
    "                            break\n",
    "                    server_state[server_to_off][0]= '0'\n",
    "                    server_state[server_to_off][1]= 0\n",
    "                \n",
    "    #             print('event(complete,marked):',event,'\\n','\\n\\ndepatcher_queue:\\n',\n",
    "    #                   [(i.num,i.state) for i in depatcher_queue],'server_state:\\n',server_state,\n",
    "    #                   '\\n\\nmaster_clock:',master_clock,'\\n')\n",
    "                continue\n",
    "            elif 'UNMARKED' in check_job_state:\n",
    "    #             print('\\nthere are unmarked jobs in queue\\n')\n",
    "                server_state[temp][0]= '2'\n",
    "                num = int(depatcher_queue.pop(0).num)-1\n",
    "                busy_time = master_clock+service[num]\n",
    "                complete_time[num] = busy_time\n",
    "                server_state[temp][1] = busy_time\n",
    "                event.append((busy_time,'completed')) # what time job completed\n",
    "    #             print('\\nprocessing job {} server time is {}'.format(depatcher_queue [0].num,busy_time-master_clock))\n",
    "    #             print('event(complete,unmarked):',event,'\\n','\\n\\ndepatcher_queue:\\n',\n",
    "    #                   [(i.num,i.state) for i in depatcher_queue],'server_state:\\n',server_state,\n",
    "    #                   '\\n\\nmaster_clock:',master_clock,'\\n')\n",
    "                continue\n",
    "            else:\n",
    "    #             print('\\nno jobs in queue\\n')\n",
    "                server_state[temp][0]= '3'\n",
    "                delayedoff_time = master_clock+delayedoff\n",
    "                server_state[temp][1] = delayedoff_time\n",
    "                event.append((delayedoff_time,'delayedoff')) # delayedoff\n",
    "    #             print('\\n processing job {} server time is {}'.format(depatcher_queue[0].num,busy_time-master_clock))\n",
    "    #             print('event(complete,else):',event,'\\n','\\n\\ndepatcher_queue:\\n',\n",
    "    #                   [(i.num,i.state) for i in depatcher_queue],'server_state:\\n',server_state,\n",
    "    #                   '\\n\\nmaster_clock:',master_clock,'\\n')\n",
    "                continue\n",
    "        if event_now[1] =='delayedoff':\n",
    "            temp = find_delayedoff_server(server_state, master_clock)\n",
    "    #         print(temp)\n",
    "            server_state[temp][0]= '0'\n",
    "            server_state[temp][1]= 0\n",
    "            \n",
    "    # mean response time\n",
    "    if time_end != 0.0:\n",
    "        arrival_complete = combine_list(arrival,complete_time,'random',float(time_end))\n",
    "    else:\n",
    "        arrival_complete = combine_list(arrival,complete_time,mode)\n",
    "    for i in range(len(arrival_complete)):\n",
    "#         print(complete_time[i],type(complete_time[i]),arrival[i],type(arrival[i]))\n",
    "        mrt += arrival_complete[i][1]-arrival_complete[i][0]\n",
    "    mrt = ('%.3f' %(mrt/len(arrival))) # mean response time\n",
    "\n",
    "# #     print('\\nfinished!\\n','each jobs finished at:',complete_time,'mrt is :',mrt)\n",
    "    print('\\n{} jobs finished!\\nmrt is :{}\\n'.format(len(arrival_complete),mrt))\n",
    "    return arrival_complete,mrt\n",
    "\n",
    "\n",
    "# run a series of tests\n",
    "def run_series():   \n",
    "    a = [] # arrival list\n",
    "    c = [] # complete list\n",
    "    arrival_complete = []\n",
    "    mean_time = 0.0\n",
    "    \n",
    "    # read num_tests file\n",
    "    with open('num_tests.txt','r') as num:\n",
    "        for i in num:\n",
    "            tests = int(i.strip())\n",
    "            # print('num of tests:',tests)\n",
    "        num.close()\n",
    "\n",
    "    # read other files according to num_tests.txt\n",
    "    for i in range(1,tests+1):\n",
    "        arrival_complete = [] # initialize\n",
    "        mean_time = 0.0 # initialize\n",
    "        \n",
    "        mode_file = 'mode_{}.txt'.format(i) \n",
    "        para_file = 'para_{}.txt'.format(i)\n",
    "        arrival_file = 'arrival_{}.txt'.format(i)\n",
    "        service_file = 'service_{}.txt'.format(i)\n",
    "    #     print(mode_file,para_file,arrival_file,service_file)\n",
    "        \n",
    "        with open(mode_file,'r') as mode:\n",
    "            for j in mode:\n",
    "                print('test {}:'.format(i))\n",
    "                j = j.strip()\n",
    "                if j=='trace':\n",
    "                    servers,setup_time,delayoff_time,arr_list,ser_list = read_para_trace(para_file,arrival_file,service_file)\n",
    "                    print('mode,servers,setup_time,delayoff_time,arr_list,ser_list:\\n',\n",
    "                          j,servers,setup_time,delayoff_time,arr_list,ser_list)\n",
    "                    # do trace simulation\n",
    "                    a_c = simulate(j,arr_list,ser_list,servers,setup_time,delayoff_time)\n",
    "#                     arrival_complete = combine_list(a,c,j)\n",
    "                elif j=='random':\n",
    "                    servers,setup_time,delayoff_time,time_end,arr_list,ser_list = read_para_random(para_file,arrival_file,service_file)\n",
    "                    print('mode,servers,setup_time,delayoff_time,time_end,arr_list,ser_list:\\n',\n",
    "                          j,servers,setup_time,delayoff_time,time_end,arr_list,ser_list)\n",
    "                    # do random simulation\n",
    "                    a_c = simulate(j,arr_list,ser_list,servers,setup_time,delayoff_time,time_end)\n",
    "#                     arrival_complete = combine_list(a,c,j,float(time_end))\n",
    "                else:\n",
    "                    servers,setup_time,delayoff_time,time_end,arr_list,ser_list = read_para_random(para_file,arrival_file,service_file)\n",
    "                    print('mode,servers,setup_time,delayoff_time,time_end,arr_list,ser_list:\\n',\n",
    "                          j,servers,setup_time,delayoff_time,time_end,arr_list,ser_list)\n",
    "                    # do random simulation\n",
    "                    a_c = simulate(j,arr_list,ser_list,servers,setup_time,delayoff_time,time_end)\n",
    "#                     arrival_complete = combine_list(a,c,j,float(time_end))\n",
    "        mode.close()\n",
    "                   \n",
    "        mrt_file = 'mrt_{}.txt'.format(i)\n",
    "        departure_file ='departure_{}.txt'.format(i)\n",
    "\n",
    "        mean_time = ('{0:.3f}'.format(float(a_c[1]))) # mean response time        \n",
    "        \n",
    "        with open(mrt_file,'w') as mrt:\n",
    "            mrt.write('{}\\n'.format(mean_time))\n",
    "        mrt.close()\n",
    "        \n",
    "        with open(departure_file,'w') as dep:\n",
    "            for i in range(len(a_c[0])):\n",
    "                temp1 = ('{0:.3f}'.format(float(a_c[0][i][0])))\n",
    "                temp2 = ('{0:.3f}'.format(float(a_c[0][i][1])))\n",
    "                dep.write('{}\\t{}\\n'.format(temp1,temp2))\n",
    "        dep.close()"
   ]
  },
  {
   "cell_type": "code",
   "execution_count": 325,
   "metadata": {
    "scrolled": true
   },
   "outputs": [
    {
     "name": "stdout",
     "output_type": "stream",
     "text": [
      "test 1:\n",
      "mode,servers,setup_time,delayoff_time,arr_list,ser_list:\n",
      " trace 3 50 100 [10, 20, 32, 33] [1, 2, 3, 4]\n",
      "\n",
      "4 jobs finished!\n",
      "mrt is :41.250\n",
      "\n",
      "test 2:\n",
      "mode,servers,setup_time,delayoff_time,time_end,arr_list,ser_list:\n",
      " random 3 50 100 1000 0.35 1.0\n",
      "\n",
      "345 jobs finished!\n",
      "mrt is :4.611\n",
      "\n",
      "test 3:\n",
      "mode,servers,setup_time,delayoff_time,time_end,arr_list,ser_list:\n",
      " random_fix 3 50 100 1000 0.35 1.0\n",
      "\n",
      "342 jobs finished!\n",
      "mrt is :5.908\n",
      "\n",
      "test 4:\n",
      "mode,servers,setup_time,delayoff_time,time_end,arr_list,ser_list:\n",
      " random_fix 4 30 50 5000 0.7 1.0\n",
      "\n",
      "3525 jobs finished!\n",
      "mrt is :3.572\n",
      "\n",
      "test 5:\n",
      "mode,servers,setup_time,delayoff_time,time_end,arr_list,ser_list:\n",
      " random_fix 5 5 10 1000 0.5 1.0\n",
      "\n",
      "510 jobs finished!\n",
      "mrt is :3.922\n",
      "\n"
     ]
    }
   ],
   "source": [
    "run_series()"
   ]
  },
  {
   "cell_type": "code",
   "execution_count": 314,
   "metadata": {},
   "outputs": [
    {
     "name": "stdout",
     "output_type": "stream",
     "text": [
      "\n",
      "37 jobs finished!\n",
      "mrt is :6.178\n",
      "\n"
     ]
    },
    {
     "data": {
      "text/plain": [
       "([(5.31602031732921, 12.580004928056379),\n",
       "  (7.361605316663926, 14.773651993798376),\n",
       "  (9.211329515387648, 16.545350137177063),\n",
       "  (10.157214921039806, 16.872772968246686),\n",
       "  (19.915320911285267, 26.53481111463993),\n",
       "  (18.089808550628085, 27.84151606174097),\n",
       "  (17.029015485363168, 30.077375136240455),\n",
       "  (27.754591813021236, 32.522036216576836),\n",
       "  (26.892390103029264, 33.89387752016058),\n",
       "  (31.388624785005998, 35.876068715550026),\n",
       "  (31.391891850235623, 36.875806842326725),\n",
       "  (32.515735831882246, 38.97015807567017),\n",
       "  (33.86419138414459, 39.696058449854995),\n",
       "  (33.53426059528607, 40.18737605462384),\n",
       "  (33.294642561652694, 42.03599429971047),\n",
       "  (38.67711075082986, 43.99135180993523),\n",
       "  (41.207976194899594, 44.01778468515373),\n",
       "  (43.65711643059906, 44.75096772296489),\n",
       "  (46.36781545662845, 53.17824288655225),\n",
       "  (50.416907469906725, 59.68893634723434),\n",
       "  (56.94399654391793, 63.52821450493707),\n",
       "  (60.43468529209289, 67.41371241551136),\n",
       "  (66.87515990939391, 72.16264116103065),\n",
       "  (73.09078713903698, 79.79191829937795),\n",
       "  (68.58619235358327, 81.31847161055705),\n",
       "  (81.12387307843734, 82.77898958665679),\n",
       "  (76.288594988652, 83.16868100413538),\n",
       "  (75.9326459104134, 83.25005237827565),\n",
       "  (81.25612755210626, 86.80410922647263),\n",
       "  (84.51691903565222, 88.77129019842613),\n",
       "  (87.51776827040938, 93.41440995079586),\n",
       "  (86.9680929164618, 93.6680237958128),\n",
       "  (88.23069710817259, 94.18891906380902),\n",
       "  (87.07400933105534, 95.43949567834447),\n",
       "  (87.4519222450316, 96.6877706664429),\n",
       "  (90.86722677020244, 97.24950347678353),\n",
       "  (90.23197358892396, 98.00360851372253)],\n",
       " '6.178')"
      ]
     },
     "execution_count": 314,
     "metadata": {},
     "output_type": "execute_result"
    }
   ],
   "source": [
    "simulate('random_fix',0.35,1,5,5,0.1,100)\n"
   ]
  },
  {
   "cell_type": "code",
   "execution_count": 294,
   "metadata": {
    "scrolled": true
   },
   "outputs": [
    {
     "name": "stdout",
     "output_type": "stream",
     "text": [
      "\n",
      "7006 jobs finished!\n",
      "mrt is :3.563\n",
      "\n",
      "\n",
      "7057 jobs finished!\n",
      "mrt is :3.533\n",
      "\n",
      "\n",
      "6861 jobs finished!\n",
      "mrt is :3.516\n",
      "\n",
      "\n",
      "6994 jobs finished!\n",
      "mrt is :3.581\n",
      "\n",
      "\n",
      "6954 jobs finished!\n",
      "mrt is :3.560\n",
      "\n",
      "\n",
      "7040 jobs finished!\n",
      "mrt is :3.558\n",
      "\n",
      "\n",
      "7071 jobs finished!\n",
      "mrt is :3.581\n",
      "\n",
      "\n",
      "7058 jobs finished!\n",
      "mrt is :3.537\n",
      "\n",
      "\n",
      "6933 jobs finished!\n",
      "mrt is :3.586\n",
      "\n",
      "\n",
      "6969 jobs finished!\n",
      "mrt is :3.541\n",
      "\n"
     ]
    }
   ],
   "source": [
    "from collections import defaultdict\n",
    "sample = defaultdict(list)\n",
    "mrt = 0.0\n",
    "temp = 0.0\n",
    "a_c = []\n",
    "for i in range(10):\n",
    "    a_c = simulate('random',0.35,1,5,5,20,20000)\n",
    "    sample[i].append(a_c[0])\n",
    "# print(sample)"
   ]
  },
  {
   "cell_type": "code",
   "execution_count": 233,
   "metadata": {},
   "outputs": [
    {
     "data": {
      "text/plain": [
       "[7047, 6873, 6969, 7081, 6956, 7004, 6904, 6978, 7124, 7031]"
      ]
     },
     "execution_count": 233,
     "metadata": {},
     "output_type": "execute_result"
    }
   ],
   "source": [
    "[len(sample[jj][0]) for jj in sample]"
   ]
  },
  {
   "cell_type": "code",
   "execution_count": 295,
   "metadata": {},
   "outputs": [
    {
     "name": "stdout",
     "output_type": "stream",
     "text": [
      "3.5659221195190454\n",
      "3.5404910115171333\n",
      "3.517620800474077\n",
      "3.586713535421931\n",
      "3.556310312317443\n",
      "3.5629866548341043\n",
      "3.5756041785043338\n",
      "3.529322491845899\n",
      "3.5794976080108256\n",
      "3.5413540282355234\n"
     ]
    }
   ],
   "source": [
    "length = min([len(sample[i][0]) for i in sample])\n",
    "\n",
    "def sumup(x,L):\n",
    "    mean = 0.0\n",
    "    for i in range(int(x)):\n",
    "        mean += L[i][1] - L[i][0]\n",
    "#         print(mean)\n",
    "    return mean/x\n",
    "\n",
    "for i in sample:\n",
    "#     print(len(sample[i][0][101:length+1]),'------------\\n',sample[i][0][101:length+1])\n",
    "    print(sumup(len(sample[i][0][101:length+1]),sample[i][0][101:length+1]))\n",
    "    \n"
   ]
  },
  {
   "cell_type": "code",
   "execution_count": 296,
   "metadata": {},
   "outputs": [
    {
     "data": {
      "text/plain": [
       "[2.5378332183141814,\n",
       " 2.496412909268914,\n",
       " 2.5017944350957926,\n",
       " 2.472923023478207,\n",
       " 2.574517837683257,\n",
       " 2.4996354999908417,\n",
       " 2.4854962779319636,\n",
       " 2.5076527042550043,\n",
       " 2.3996711024455424,\n",
       " 2.495492153555346]"
      ]
     },
     "execution_count": 296,
     "metadata": {},
     "output_type": "execute_result"
    }
   ],
   "source": [
    "[6.103755337833227-3.5659221195190454,\n",
    "6.036903920786047-3.5404910115171333,\n",
    "6.01941523556987-3.517620800474077,\n",
    "6.059636558900138-3.586713535421931,\n",
    "6.1308281500007-3.556310312317443,\n",
    "6.062622154824946-3.5629866548341043,\n",
    "6.061100456436297-3.5756041785043338,\n",
    "6.0369751961009035-3.529322491845899,\n",
    "5.979168710456368-3.5794976080108256,\n",
    "6.036846181790869-3.5413540282355234]"
   ]
  },
  {
   "cell_type": "code",
   "execution_count": 298,
   "metadata": {},
   "outputs": [
    {
     "data": {
      "text/plain": [
       "-2.495854852200156"
      ]
     },
     "execution_count": 298,
     "metadata": {},
     "output_type": "execute_result"
    }
   ],
   "source": [
    "import math\n",
    "sam =[-2.5378332183141814,\n",
    " -2.496412909268914,\n",
    " -2.5017944350957926,\n",
    " -2.472923023478207,\n",
    " -2.574517837683257,\n",
    " -2.4996354999908417,\n",
    " -2.4854962779319636,\n",
    " -2.5076527042550043,\n",
    " -2.3996711024455424,\n",
    " -2.495492153555346]\n",
    "\n",
    "me = sum(sam)/len(sam)  # mean\n",
    "std = [(i-me)**2 for i in sam]\n",
    "stdd = sum(std)/len(std)\n",
    "stdd #std\n",
    "me + 2.262*stdd/math.sqrt(10)"
   ]
  },
  {
   "cell_type": "code",
   "execution_count": 246,
   "metadata": {},
   "outputs": [
    {
     "name": "stdout",
     "output_type": "stream",
     "text": [
      "[6.544229   5.77752936 4.88031644 ... 6.10098191 6.101221   6.10088462]\n",
      "[7.60579933 7.87900232 6.11565587 ... 6.03247224 6.03191408 6.03196307]\n",
      "[6.65680488 4.72404531 5.04173967 ... 6.02065763 6.02087041 6.02048221]\n",
      "[9.96830473 6.72928318 6.27745666 ... 6.06408361 6.06521499 6.06458528]\n",
      "[6.61027169 8.37511774 7.73735794 ... 6.12254502 6.12212499 6.12280383]\n",
      "[6.43012362 5.84433876 4.29726139 ... 6.06718627 6.06701379 6.06663759]\n",
      "[6.62570668 6.24967653 7.93568741 ... 6.06728307 6.06762247 6.06733078]\n",
      "[8.12215853 7.86433986 7.53344256 ... 6.03931341 6.03925865 6.0390443 ]\n",
      "[7.30271345 7.1125393  8.0942897  ... 5.98558126 5.98502073 5.9844617 ]\n",
      "[6.56472807 7.7229114  7.25172097 ... 6.0332812  6.03291254 6.03293049]\n"
     ]
    },
    {
     "data": {
      "text/plain": [
       "array([72.43083999, 68.27878375, 65.16492862, ..., 60.53338562,\n",
       "       60.53317365, 60.53112388])"
      ]
     },
     "execution_count": 246,
     "metadata": {},
     "output_type": "execute_result"
    }
   ],
   "source": [
    "length = min([len(sample[i][0]) for i in sample])\n",
    "\n",
    "L = []\n",
    "# for i in sample:\n",
    "#     print('------')\n",
    "#     for j in range(1,length):\n",
    "#         mrtt = 0.0\n",
    "#         for m in range(j):\n",
    "#             mrtt += sample[i][0]\n",
    "def comp(x,arrival_complete):\n",
    "    mean = 0.0\n",
    "    for i in range(int(x)+1):\n",
    "        mean += arrival_complete[i][1]-arrival_complete[i][0]\n",
    "    return mean/(x+1)\n",
    "LL = np.zeros(length)\n",
    "for j in sample:\n",
    "    x = [ i for i in range(length)]\n",
    "    p = [comp(i,sample[j][0][:length]) for i in x]\n",
    "    p = np.array(p)\n",
    "    print(p)\n",
    "    LL += p\n",
    "LL"
   ]
  },
  {
   "cell_type": "code",
   "execution_count": 163,
   "metadata": {},
   "outputs": [],
   "source": [
    "LL = LL/10"
   ]
  },
  {
   "cell_type": "code",
   "execution_count": 278,
   "metadata": {},
   "outputs": [
    {
     "name": "stdout",
     "output_type": "stream",
     "text": [
      "0.011506666085639435\n"
     ]
    },
    {
     "data": {
      "text/plain": [
       "60.6324217320903"
      ]
     },
     "execution_count": 278,
     "metadata": {},
     "output_type": "execute_result"
    }
   ],
   "source": [
    "t_m = sum(LL[101:])/len(LL[101:])\n",
    "std = 0.0\n",
    "for i in LL[101:]:\n",
    "    std+=(i-t_m)**2\n",
    "std = std/(len(LL[101:])-1)\n",
    "print(std)\n",
    "\n",
    "import math\n",
    "from scipy.stats import t\n",
    "\n",
    "tt = t._ppf((1+0.95)/2., 10-1)\n",
    "t_m + tt*std/math.sqrt(10)"
   ]
  },
  {
   "cell_type": "code",
   "execution_count": 177,
   "metadata": {},
   "outputs": [
    {
     "data": {
      "text/plain": [
       "(5.5, 7.0)"
      ]
     },
     "execution_count": 177,
     "metadata": {},
     "output_type": "execute_result"
    },
    {
     "data": {
      "image/png": "[encoded data removed]",
      "text/plain": [
       "<Figure size 432x288 with 1 Axes>"
      ]
     },
     "metadata": {},
     "output_type": "display_data"
    }
   ],
   "source": [
    "xx = [x for x in range(len(LL))]\n",
    "# print(xx)\n",
    "plt.plot(xx,LL)\n",
    "plt.xlim(0, len(LL))# set axis limits\n",
    "plt.ylim(5.50, 7.0)"
   ]
  },
  {
   "cell_type": "code",
   "execution_count": 215,
   "metadata": {},
   "outputs": [
    {
     "data": {
      "text/plain": [
       "(5.5, 7.0)"
      ]
     },
     "execution_count": 215,
     "metadata": {},
     "output_type": "execute_result"
    },
    {
     "data": {
      "image/png": "[encoded data removed]",
      "text/plain": [
       "<Figure size 432x288 with 1 Axes>"
      ]
     },
     "metadata": {},
     "output_type": "display_data"
    }
   ],
   "source": [
    "def smooth(l,w):\n",
    "    l_new = [0]*(len(l)-w+1)\n",
    "#     print(len(l_new),len(l))\n",
    "    temp = 0.0\n",
    "    for i in range(w):\n",
    "        l_new[i] = sum(l[(i-(i)):(2*i+1)])/(2*i+1)\n",
    "#         print(l_new[i])\n",
    "    for i in range(w,len(l)-w):\n",
    "#         print(i)\n",
    "        l_new[i] = sum(l[(i-w):(i+w+1)])/(2*w+1)\n",
    "    l_new[len(l)-w] = sum(l[(i-w):])/(2*w+1)\n",
    "        \n",
    "    return l_new\n",
    "\n",
    "\n",
    "bb = smooth(LL,100)\n",
    "\n",
    "xx = [x for x in range(len(bb))]\n",
    "# print(xx)\n",
    "plt.plot(xx,bb)\n",
    "plt.xlim(0, len(LL))# set axis limits\n",
    "plt.ylim(5.50, 7.0)"
   ]
  },
  {
   "cell_type": "code",
   "execution_count": 112,
   "metadata": {},
   "outputs": [
    {
     "name": "stdout",
     "output_type": "stream",
     "text": [
      "7024\n"
     ]
    }
   ],
   "source": [
    "# draw dot graph\n",
    "\n",
    "arrival_complete = a_c[0]\n",
    "l = len(arrival_complete)\n",
    "print(l)\n",
    "\n",
    "import numpy as np\n",
    "from matplotlib import pyplot as plt\n",
    "\n",
    "def comp(x):\n",
    "    mean = 0.0\n",
    "    for i in range(int(x)):\n",
    "        mean += arrival_complete[i][1]-arrival_complete[i][0]\n",
    "    return mean/(x+1)\n",
    "\n",
    "x = [ i for i in range(1,l)]\n",
    "p = [comp(i-1) for i in x]\n"
   ]
  },
  {
   "cell_type": "code",
   "execution_count": 110,
   "metadata": {},
   "outputs": [
    {
     "data": {
      "text/plain": [
       "(5, 10.0)"
      ]
     },
     "execution_count": 110,
     "metadata": {},
     "output_type": "execute_result"
    },
    {
     "data": {
      "image/png": "[encoded data removed]",
      "text/plain": [
       "<Figure size 432x288 with 1 Axes>"
      ]
     },
     "metadata": {},
     "output_type": "display_data"
    }
   ],
   "source": [
    "plt.plot(x,p)\n",
    "plt.xlim(0, l)# set axis limits\n",
    "plt.ylim(5, 10.0,1)\n"
   ]
  },
  {
   "cell_type": "code",
   "execution_count": 317,
   "metadata": {},
   "outputs": [],
   "source": [
    "import numpy as np\n",
    "from matplotlib import pyplot as plt\n",
    "\n",
    "def my_dist(x):\n",
    "    return 1- np.exp(-1/10*x)\n",
    "\n",
    "def my_dist1(x):\n",
    "    return -np.log(1-random.random())/x\n",
    "\n",
    "# x = np.arange(0, 10, 0.01)\n",
    "# p = my_dist1(x)\n",
    "# plt.plot(x, p)\n",
    "# plt.show()\n",
    "\n",
    "import numpy as np\n",
    "import random\n",
    "from matplotlib import pyplot as plt\n",
    "\n",
    "x = []\n",
    "y = []\n",
    "for i in range(50000):\n",
    "    x.append(10)\n",
    "for i in x:\n",
    "    y.append(my_dist1(i))\n",
    "    \n",
    "# plt.plot(x, y,'o')\n",
    "# plt.xlim(0, 10)# set axis limits\n",
    "# plt.ylim(0, 100,1)\n",
    "\n",
    "# print(x,y)\n",
    "\n"
   ]
  },
  {
   "cell_type": "code",
   "execution_count": 319,
   "metadata": {
    "scrolled": false
   },
   "outputs": [
    {
     "name": "stdout",
     "output_type": "stream",
     "text": [
      "Counter({1: 4725, 2: 4326, 3: 3889, 4: 3551, 5: 3246, 6: 2947, 7: 2593, 8: 2364, 9: 2082, 10: 1839, 11: 1752, 12: 1603, 13: 1426, 14: 1306, 15: 1142, 16: 1002, 17: 925, 18: 838, 19: 796, 20: 703, 21: 645, 22: 580, 23: 568, 24: 462, 25: 437, 26: 384, 27: 366, 28: 353, 29: 300, 30: 281, 32: 242, 31: 233, 33: 195, 34: 182, 36: 162, 35: 156, 37: 124, 38: 116, 39: 107, 41: 104, 40: 97, 42: 84, 43: 83, 45: 63, 44: 61, 46: 59, 47: 48, 49: 42, 52: 40, 51: 38, 48: 36, 50: 36, 55: 27, 53: 21, 54: 19, 58: 16, 62: 16, 56: 16, 59: 12, 64: 12, 63: 12, 61: 11, 57: 11, 66: 8, 68: 7, 72: 7, 60: 6, 75: 6, 71: 6, 67: 6, 69: 5, 65: 5, 73: 4, 77: 3, 74: 3, 83: 3, 82: 2, 78: 2, 79: 2, 70: 2, 80: 1, 115: 1, 86: 1, 89: 1, 76: 1, 93: 1, 112: 1, 87: 1, 81: 1, 94: 1, 90: 1})\n",
      "[2.9, 0.5, 0.2, 3.0, 1.8, 0.1, 0.7, 0.3, 1.6, 0.9, 4.6, 0.8, 1.7, 0.6, 0.4, 2.4, 1.3, 2.1, 2.8, 1.5, 2.3, 1.2, 1.9, 5.3, 2.0, 3.2, 3.7, 1.0, 1.4, 2.7, 4.1, 1.1, 3.5, 3.3, 2.5, 2.2, 4.5, 2.6, 4.2, 3.1, 3.8, 4.9, 5.1, 5.4, 3.4, 5.9, 6.1, 4.0, 4.4, 4.3, 3.6, 3.9, 6.0, 5.5, 5.8, 7.7, 5.2, 4.8, 6.2, 5.7, 7.5, 7.3, 6.8, 5.0, 8.0, 7.1, 7.2, 6.6, 6.9, 4.7, 8.2, 6.7, 6.4, 7.4, 5.6, 6.5, 7.8, 11.5, 8.6, 8.9, 8.3, 7.6, 6.3, 7.9, 9.3, 11.2, 7.0, 8.7, 8.1, 9.4, 9.0] [300, 3246, 4326, 281, 838, 4725, 2593, 3889, 1002, 2082, 59, 2364, 925, 2947, 3551, 462, 1426, 645, 353, 1142, 568, 1603, 796, 21, 703, 242, 124, 1839, 1306, 366, 104, 1752, 156, 195, 437, 580, 63, 384, 84, 233, 116, 42, 38, 19, 182, 12, 11, 97, 61, 83, 162, 107, 6, 27, 16, 3, 40, 36, 16, 11, 6, 4, 7, 36, 1, 6, 7, 8, 5, 48, 2, 6, 12, 3, 16, 5, 2, 1, 1, 1, 3, 1, 12, 2, 1, 1, 2, 1, 1, 1, 1]\n"
     ]
    },
    {
     "data": {
      "text/plain": [
       "(0, 1000)"
      ]
     },
     "execution_count": 319,
     "metadata": {},
     "output_type": "execute_result"
    },
    {
     "data": {
      "image/png": "[encoded data removed]",
      "text/plain": [
       "<Figure size 432x288 with 1 Axes>"
      ]
     },
     "metadata": {},
     "output_type": "display_data"
    }
   ],
   "source": [
    "import numpy as NP\n",
    "A = NP.random.randint(0, 1, 100)\n",
    "\n",
    "# bins = NP.array([0., 1., 2., 3., 4., 5.])\n",
    "\n",
    "bins = NP.arange(0., 5.,0.01)\n",
    "\n",
    "# d is an index array holding the bin id for each point in A\n",
    "d = NP.digitize(y, bins) \n",
    "from collections import Counter\n",
    "d = Counter(d)\n",
    "print(d)\n",
    "x = []\n",
    "z = []\n",
    "for i in d:\n",
    "    x.append(i/10)\n",
    "    z.append(d[i])\n",
    "print(x,z)\n",
    "plt.plot(x, z,'o')\n",
    "plt.xlim(0, 15,1)# set axis limits\n",
    "plt.ylim(0, 1000,1)\n",
    "    "
   ]
  }
 ],
 "metadata": {
  "kernelspec": {
   "display_name": "Python 3",
   "language": "python",
   "name": "python3"
  },
  "language_info": {
   "codemirror_mode": {
    "name": "ipython",
    "version": 3
   },
   "file_extension": ".py",
   "mimetype": "text/x-python",
   "name": "python",
   "nbconvert_exporter": "python",
   "pygments_lexer": "ipython3",
   "version": "3.6.4"
  }
 },
 "nbformat": 4,
 "nbformat_minor": 2
}
